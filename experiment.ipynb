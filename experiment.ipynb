{
 "cells": [
  {
   "cell_type": "code",
   "execution_count": 20,
   "metadata": {},
   "outputs": [
    {
     "name": "stdout",
     "output_type": "stream",
     "text": [
      "2\n",
      "player found\n",
      "\n",
      " ======> Final Data <====== : \n",
      "\n",
      "{'ign': '[TL]Wikkie.', 'profile_url': 'https://www.rpg.b-zone.ro/players/general/Wikkie.', 'avatar_url': 'https://www.rpg.b-zone.ro/public/img/Skins/240.png', 'current_status': 'offline', 'level': '19', 'last_login': '06.07.2022 14:49', 'hours_played_this_month': '11', 'real_hours_this_month': '8', 'respect': '22/74', 'hours_played': '209.8', 'forum_profile_link': None, 'playerFound': 1, 'message': 0, 'faction_name': 'SF School Instructors', 'join_date': '02.03.2022 20:20', 'rank': 'SF Manager (5)', 'faction_warns': '0/3', 'faction_punish': '0/60', 'faction_time': '126 day(s)', 'faction_url': '/factions/view/sfinstructors', 'faction_logo_url': 'https://i.imgur.com/z2SBm6k.png'}\n",
      "Total execution time: 4.648077964782715 seconds\n"
     ]
    }
   ],
   "source": [
    "import aiohttp\n",
    "from bs4 import BeautifulSoup\n",
    "import time\n",
    "\n",
    "async def main(player_name):\n",
    "    start_time = time.time()\n",
    "    async with aiohttp.ClientSession() as session:\n",
    "        async with session.get(f'https://www.rpg.b-zone.ro/players/general/{player_name}') as resp:\n",
    "            content = await resp.text()\n",
    "            doc = BeautifulSoup(content, 'html.parser')\n",
    "            rpg_player_ign = doc.select(\".tooltipstered a\")\n",
    "            print(len(rpg_player_ign))\n",
    "\n",
    "            # forum_profile_url = (len(doc.select(\"#contentPage > div.subPageTitle.pageTitle > div > a\")) == 1)and doc.select(\"#contentPage > div.subPageTitle.pageTitle > div > a\")[0][\"href\"] or None\n",
    "            # print(forum_profile_url)\n",
    "            if(len(rpg_player_ign)>0):\n",
    "                full_name =len(rpg_player_ign) > 1 and f'{rpg_player_ign[0].string}{rpg_player_ign[1].string}' or rpg_player_ign[0].string\n",
    "                print(\"player found\")            \n",
    "                data = {\n",
    "                        \"ign\": full_name,\n",
    "                        \"profile_url\":f'https://www.rpg.b-zone.ro/players/general/{player_name}',\n",
    "                        \"avatar_url\": doc.select(\".skinImg\")[0][\"src\"],\n",
    "                        \"current_status\": doc.select(\"#wrapper > div.generalRight > table > tr.firstRow > td:nth-child(2) > div > div > div > div:nth-child(1) > img\")[0][\"alt\"],\n",
    "                        \"level\":doc.select(\"#generalTableLeft > table > tr:nth-child(3) > td:nth-child(2)\")[0].string.strip(),\n",
    "                        \"last_login\":doc.select(\"#wrapper > div.generalRight > table > tr:nth-child(3) > td:nth-child(2)\")[0].string.strip(),\n",
    "                        \"hours_played_this_month\":doc.select(\"#generalTableLeft > table > tr:nth-child(6) > td:nth-child(2)\")[0].string.strip(),\n",
    "                        \"real_hours_this_month\":doc.select(\"#generalTableLeft > table > tr:nth-child(7) > td:nth-child(2)\")[0].string.strip(),\n",
    "                        \"respect\":doc.select(\"#generalTableLeft > table > tr:nth-child(4) > td:nth-child(2)\")[0].string.strip(),\n",
    "                        \"hours_played\":doc.select(\"#generalTableLeft > table > tr:nth-child(5) > td:nth-child(2)\")[0].string.strip(),\n",
    "                        \"forum_profile_link\":(len(doc.select(\"#contentPage > div.subPageTitle.pageTitle > div > a\")) == 1)and doc.select(\"#contentPage > div.subPageTitle.pageTitle > div > a\")[0][\"href\"] or None,\n",
    "                        \"playerFound\":1,\n",
    "                        \"message\":0\n",
    "                                           \n",
    "                        }\n",
    "                async with session.get(f'https://www.rpg.b-zone.ro/players/faction/{player_name}') as resp:\n",
    "                    content = await resp.text()\n",
    "                    doc = BeautifulSoup(content, 'html.parser')\n",
    "                    faction_name = (doc.select(\"#FactionWrapper > table > tr:nth-child(1) > td:nth-child(2)\")[0].a == None) and doc.select(\"#FactionWrapper > table > tr:nth-child(1) > td:nth-child(2)\")[0].string.strip() or doc.select(\"#FactionWrapper > table > tr:nth-child(1) > td:nth-child(2)\")[0].a.string.strip()\n",
    "                    faction_data = {\n",
    "                        \"faction_name\":faction_name,\n",
    "                        \"join_date\": doc.select(\"#FactionWrapper > table > tr:nth-child(2) > td:nth-child(2)\")[0].string.strip(),\n",
    "                        \"rank\": doc.select(\"#FactionWrapper > table > tr:nth-child(3) > td:nth-child(2)\")[0].string.strip(),\n",
    "                        \"faction_warns\": doc.select(\"#FactionWrapper > table > tr:nth-child(4) > td:nth-child(2)\")[0].string.strip(),\n",
    "                        \"faction_punish\": doc.select(\"#FactionWrapper > table > tr:nth-child(5) > td:nth-child(2)\")[0].string.strip(),\n",
    "                        \"faction_time\": doc.select(\"#FactionWrapper > table > tr:nth-child(6) > td:nth-child(2)\")[0].string.strip(),\n",
    "                        \"faction_url\" : (faction_name != 'Civilian') and doc.select(\"#FactionWrapper > table > tr.firstRow > td:nth-child(2) > a\")[0][\"href\"] or None,\n",
    "                            }\n",
    "                    data.update(faction_data)\n",
    "                    if(faction_name != 'Civilian'):\n",
    "                        async with session.get(f'https://www.rpg.b-zone.ro/{data[\"faction_url\"]}') as resp:\n",
    "                            content = await resp.text()\n",
    "                            doc = BeautifulSoup(content, 'html.parser')\n",
    "                            data.update({\n",
    "                                \"faction_logo_url\":doc.select(\"#pageContent > p:nth-child(3) > img\")[0][\"src\"]\n",
    "                            })\n",
    "                    else:\n",
    "                        print(\"Player is civilian\")\n",
    "                    print('\\n ======> Final Data <====== : \\n')\n",
    "                    print(data)\n",
    "                    end_time = time.time()\n",
    "                    total_time = \"Total execution time: {} seconds\".format(end_time - start_time) \n",
    "                    print(total_time)\n",
    "            else:\n",
    "                print(\"player not found\")\n",
    "\n",
    "\n",
    "await main(\"Wikkie.\")"
   ]
  },
  {
   "cell_type": "code",
   "execution_count": null,
   "metadata": {},
   "outputs": [],
   "source": []
  },
  {
   "cell_type": "code",
   "execution_count": 1,
   "metadata": {},
   "outputs": [
    {
     "name": "stdout",
     "output_type": "stream",
     "text": [
      "{'faction_name': 'SFPD', 'faction_rank': 'Captain (5)', 'faction_warn': '0/3', 'other_faction': 0}\n"
     ]
    }
   ],
   "source": [
    "                   \n",
    "                   \n",
    "import aiohttp\n",
    "from bs4 import BeautifulSoup\n",
    "import time\n",
    "\n",
    "async def main(player_name):\n",
    "    async with aiohttp.ClientSession() as session:\n",
    "        async with session.get(f'https://www.rpg.b-zone.ro/players/faction/{player_name}') as resp:\n",
    "            content = await resp.text()\n",
    "            doc = BeautifulSoup(content, \"html.parser\")\n",
    "            faction_name = (doc.select(\"#FactionWrapper > table > tr:nth-child(1) > td:nth-child(2)\")[0].a == None) and doc.select(\"#FactionWrapper > table > tr:nth-child(1) > td:nth-child(2)\")[0].string.strip() or doc.select(\"#FactionWrapper > table > tr:nth-child(1) > td:nth-child(2)\")[0].a.string.strip()\n",
    "            if(faction_name == \"Civilian\"):\n",
    "                data = {\"is_civilian\":1,\"other_faction\":1}\n",
    "            elif(faction_name == \"SF School Instructors\"):\n",
    "                data = {\"other_faction\":1}\n",
    "                #  return{\n",
    "                #      faction_name:\"SF School Instructors\",\n",
    "                #      faction_rank:doc.select(\"#FactionWrapper > table > tr:nth-child(3) > td:nth-child(2)\")[0].string.strip(),\n",
    "                #      faction_warn:doc.select(\"#FactionWrapper > table > tr:nth-child(4) > td:nth-child(2)\")[0].string.strip(),\n",
    "                #      other_faction:0\n",
    "                #  }\n",
    "            elif(faction_name == \"SFPD\"):\n",
    "                data = {\n",
    "                    \"faction_name\":\"SFPD\",\n",
    "                    \"faction_rank\":doc.select(\"#FactionWrapper > table > tr:nth-child(3) > td:nth-child(2)\")[0].string.strip(),\n",
    "                    \"faction_warn\":doc.select(\"#FactionWrapper > table > tr:nth-child(4) > td:nth-child(2)\")[0].string.strip(),\n",
    "                    \"other_faction\":0\n",
    "                }\n",
    "            else:\n",
    "                data = {\"other_faction\":1}\n",
    "            print(data)\n",
    "\n",
    "await main(\"Wikkie\")\n",
    "                   \n"
   ]
  },
  {
   "cell_type": "code",
   "execution_count": 16,
   "metadata": {},
   "outputs": [
    {
     "name": "stdout",
     "output_type": "stream",
     "text": [
      "18:57\n",
      "True\n"
     ]
    }
   ],
   "source": [
    "from datetime import datetime\n",
    "from time import sleep\n",
    "time = datetime.now()\n",
    "time = time.strftime(\"%X\")\n",
    "print(time[:5])\n",
    "\n",
    "print(time[:5] == \"18:57\")"
   ]
  }
 ],
 "metadata": {
  "kernelspec": {
   "display_name": "Python 3.9.6 64-bit",
   "language": "python",
   "name": "python3"
  },
  "language_info": {
   "codemirror_mode": {
    "name": "ipython",
    "version": 3
   },
   "file_extension": ".py",
   "mimetype": "text/x-python",
   "name": "python",
   "nbconvert_exporter": "python",
   "pygments_lexer": "ipython3",
   "version": "3.9.6"
  },
  "orig_nbformat": 4,
  "vscode": {
   "interpreter": {
    "hash": "e3d2efb1292d61e35d6136b4e4dd81c1b44889163a69f532f9f64a9e7733a148"
   }
  }
 },
 "nbformat": 4,
 "nbformat_minor": 2
}
